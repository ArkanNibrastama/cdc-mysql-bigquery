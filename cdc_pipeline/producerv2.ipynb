{
 "cells": [
  {
   "cell_type": "code",
   "execution_count": null,
   "metadata": {},
   "outputs": [],
   "source": [
    "from kafka import KafkaProducer\n",
    "from json import dumps\n",
    "\n",
    "topic = 'data_change'\n",
    "\n",
    "server = ['localhost:29092']\n",
    "\n",
    "producer = KafkaProducer(value_serializer=lambda m: dumps(m).encode('utf-8'), bootstrap_servers = server)\n",
    "\n",
    "producer.send(topic=topic, value={'name':'arkan'})\n",
    "\n",
    "print(\"Message sent\")"
   ]
  }
 ],
 "metadata": {
  "kernelspec": {
   "display_name": "cdc_venv",
   "language": "python",
   "name": "python3"
  },
  "language_info": {
   "codemirror_mode": {
    "name": "ipython",
    "version": 3
   },
   "file_extension": ".py",
   "mimetype": "text/x-python",
   "name": "python",
   "nbconvert_exporter": "python",
   "pygments_lexer": "ipython3",
   "version": "3.9.6"
  },
  "orig_nbformat": 4
 },
 "nbformat": 4,
 "nbformat_minor": 2
}
