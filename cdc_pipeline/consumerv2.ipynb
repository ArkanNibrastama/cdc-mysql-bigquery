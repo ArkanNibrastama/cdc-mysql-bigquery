{
 "cells": [
  {
   "cell_type": "code",
   "execution_count": null,
   "metadata": {},
   "outputs": [],
   "source": [
    "from kafka import KafkaConsumer\n",
    "\n",
    "topicName = 'data_change'\n",
    "server = ['localhost:29092']\n",
    "\n",
    "consumer = KafkaConsumer(\n",
    "    topicName, auto_offset_reset='earliest', \n",
    "    bootstrap_servers=server, \n",
    "    consumer_timeout_ms=10000\n",
    ")\n",
    "\n",
    "for m in consumer:\n",
    "\n",
    "    print(f'Topic name = {m.topic}, message = {m.value}')"
   ]
  }
 ],
 "metadata": {
  "kernelspec": {
   "display_name": "cdc_venv",
   "language": "python",
   "name": "python3"
  },
  "language_info": {
   "codemirror_mode": {
    "name": "ipython",
    "version": 3
   },
   "file_extension": ".py",
   "mimetype": "text/x-python",
   "name": "python",
   "nbconvert_exporter": "python",
   "pygments_lexer": "ipython3",
   "version": "3.9.6"
  },
  "orig_nbformat": 4
 },
 "nbformat": 4,
 "nbformat_minor": 2
}
