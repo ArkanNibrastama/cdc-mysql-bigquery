{
 "cells": [
  {
   "cell_type": "code",
   "execution_count": 5,
   "metadata": {},
   "outputs": [
    {
     "data": {
      "text/plain": [
       "{'my_connect_configs', 'my_connect_offsets', 'my_connect_statuses'}"
      ]
     },
     "execution_count": 5,
     "metadata": {},
     "output_type": "execute_result"
    }
   ],
   "source": [
    "from kafka import KafkaConsumer\n",
    "bootstrap_servers = ['localhost:9092']\n",
    "consumer = KafkaConsumer( bootstrap_servers=bootstrap_servers)\n",
    "consumer.topics()"
   ]
  },
  {
   "cell_type": "code",
   "execution_count": null,
   "metadata": {},
   "outputs": [],
   "source": [
    "import json\n",
    "\n",
    "topicName = 'source.expedition.order'\n",
    "# Initialize consumer variable\n",
    "consumer = KafkaConsumer (\n",
    "                topicName , \n",
    "                auto_offset_reset='earliest', \n",
    "                bootstrap_servers = bootstrap_servers, \n",
    "                group_id='order-transactions'\n",
    "            )\n",
    "\n",
    "# Read and print message from consumer\n",
    "for m in consumer:\n",
    "    print(json.loads(m.value))"
   ]
  }
 ],
 "metadata": {
  "kernelspec": {
   "display_name": "cdc_venv",
   "language": "python",
   "name": "python3"
  },
  "language_info": {
   "codemirror_mode": {
    "name": "ipython",
    "version": 3
   },
   "file_extension": ".py",
   "mimetype": "text/x-python",
   "name": "python",
   "nbconvert_exporter": "python",
   "pygments_lexer": "ipython3",
   "version": "3.9.6"
  },
  "orig_nbformat": 4
 },
 "nbformat": 4,
 "nbformat_minor": 2
}
